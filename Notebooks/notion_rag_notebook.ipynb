{
 "cells": [
  {
   "cell_type": "code",
   "execution_count": 1,
   "metadata": {},
   "outputs": [],
   "source": [
    "from notion_client import Client\n",
    "import os\n",
    "from dotenv import load_dotenv\n",
    "load_dotenv()\n",
    "NOTION_API_KEY=os.getenv(\"NOTION_API_KEY\")\n",
    "notion = Client(auth=NOTION_API_KEY)\n",
    "import json"
   ]
  },
  {
   "cell_type": "code",
   "execution_count": 2,
   "metadata": {},
   "outputs": [],
   "source": [
    "def fetch_block_children(block_id, notion):\n",
    "    \"\"\"Fetch all children blocks of a given block and include all block data.\"\"\"\n",
    "    block_children = notion.blocks.children.list(block_id=block_id)[\"results\"]\n",
    "    content = []\n",
    "    for block in block_children:\n",
    "        # Include the entire block information\n",
    "        content.append(block)\n",
    "        if \"has_children\" in block and block[\"has_children\"]:\n",
    "            # Recursively fetch children blocks and include their data\n",
    "            block[\"children\"] = fetch_block_children(block[\"id\"], notion)\n",
    "    return content\n",
    "\n",
    "def fetch_all_pages(notion):\n",
    "    \"\"\"Fetch all standalone pages in the workspace and include all page and block data.\"\"\"\n",
    "    pages = []\n",
    "    query_results = notion.search(filter={\"value\": \"page\", \"property\": \"object\"})[\"results\"]\n",
    "\n",
    "    for page in query_results:\n",
    "        page_details = {\"page_data\": page}  # Include the entire page information\n",
    "        page_id = page[\"id\"]\n",
    "        page_details[\"content\"] = fetch_block_children(page_id, notion)  # Include all block data\n",
    "        pages.append(page_details)\n",
    "\n",
    "    return pages\n",
    "\n",
    "def create_corpus(notion):\n",
    "    \"\"\"Create a corpus from all standalone pages in the workspace, including all data.\"\"\"\n",
    "    corpus = fetch_all_pages(notion)\n",
    "    return corpus"
   ]
  },
  {
   "cell_type": "code",
   "execution_count": 3,
   "metadata": {},
   "outputs": [],
   "source": [
    "corpus = create_corpus(notion)\n",
    "\n",
    "# Save the corpus to a JSON file\n",
    "with open(\"notion_corpus.json\", \"w\", encoding=\"utf-8\") as f:\n",
    "    json.dump(corpus, f, ensure_ascii=False, indent=4)"
   ]
  },
  {
   "cell_type": "code",
   "execution_count": 3,
   "metadata": {},
   "outputs": [],
   "source": [
    "def load_corpus(file_path='notion_corpus.json'):\n",
    "    with open(file_path, 'r',encoding=\"utf-8\") as f:\n",
    "        return json.load(f)\n",
    "    \n",
    "def remove_keys_from_dict(d, keys):\n",
    "    if isinstance(d, dict):\n",
    "        return {k: remove_keys_from_dict(v, keys) for k, v in d.items() if k not in keys}\n",
    "    elif isinstance(d, list):\n",
    "        return [remove_keys_from_dict(v, keys) for v in d]\n",
    "    else:\n",
    "        return d\n",
    "\n",
    "corpus = load_corpus()"
   ]
  },
  {
   "cell_type": "code",
   "execution_count": 4,
   "metadata": {},
   "outputs": [],
   "source": [
    "keys_to_remove = [\n",
    "    \"id\", \"color\", \"type\", \"link\", \"href\", \"public_url\", \"object\",\n",
    "    \"database_id\", \"icon\", \"cover\", \"bold\", \"italic\", \"strikethrough\",\n",
    "    \"underline\", \"code\", \"archived\", \"last_edited_time\", \"created_by\",\n",
    "    \"parent\", \"relation\", \"has_more\", \"Sub-item\",\"has_children\",\"last_edited_by\",\"annotations\",\"is_toggleable\",\n",
    "    \"url\",\"divider\",\"toggle\",\"file\",'created_time',\"unsupported\"\n",
    "\n",
    "]\n",
    "\n",
    "cleaned_data = remove_keys_from_dict(corpus, keys_to_remove)\n",
    "cleaned_file_path = 'cleaned_notion_corpus.json'\n",
    "with open(cleaned_file_path, 'w') as file:\n",
    "    json.dump(cleaned_data, file, indent=4)"
   ]
  },
  {
   "cell_type": "code",
   "execution_count": 5,
   "metadata": {},
   "outputs": [],
   "source": [
    "corpus=load_corpus('cleaned_notion_corpus.json')"
   ]
  },
  {
   "cell_type": "code",
   "execution_count": 9,
   "metadata": {},
   "outputs": [],
   "source": [
    "def parse_value(v, new_key):\n",
    "    if isinstance(v, dict):\n",
    "        # Only parse non-empty dictionaries\n",
    "        return parse_dict(v, new_key) if v else None\n",
    "    elif isinstance(v, list):\n",
    "        # Process each item in the list, removing empty ones\n",
    "        processed_items = [item for item in map(lambda x: parse_value(x, ''), v) if item]\n",
    "        # Join the non-empty items with commas and only return if there's something to show\n",
    "        return f\"{new_key}:[{','.join(processed_items)}]\" if processed_items else None\n",
    "    elif v:  # Check if value is not an empty string\n",
    "        return f\"{new_key}:{v}\"\n",
    "    # Exclude empty strings, empty lists, and empty dicts\n",
    "    return None\n",
    "\n",
    "def parse_dict(d, parent_key=''):\n",
    "    items = []\n",
    "    for k, v in d.items():\n",
    "        new_key = f\"{parent_key}:{k}\" if parent_key else k\n",
    "        item = parse_value(v, new_key)\n",
    "        if item:\n",
    "            items.append(item)\n",
    "    return ','.join(filter(None, items))"
   ]
  },
  {
   "cell_type": "code",
   "execution_count": 12,
   "metadata": {},
   "outputs": [
    {
     "name": "stdout",
     "output_type": "stream",
     "text": [
      "page_data:properties:title:title:[text:content:Testing,plain_text:Testing],content:[heading_1:rich_text:[text:content:What is Lorem Ipsum?,plain_text:What is Lorem Ipsum?],paragraph:rich_text:[text:content:Lorem ispum lorem ipsum,plain_text:Lorem ispum lorem ipsum]]\n",
      "page_data:properties:title:title:[text:content:Monthly Budget,plain_text:Monthly Budget],content:[paragraph:rich_text:[text:content:Use this template to figure out how much you make and spend in a given month. List your ,plain_text:Use this template to figure out how much you make and spend in a given month. List your ,text:content:income,plain_text:income,text:content: sources for the month and their amount in the ,plain_text: sources for the month and their amount in the ,text:content:Income,plain_text:Income,text:content: table and your ,plain_text: table and your ,text:content:expenses,plain_text:expenses,text:content: in the ,plain_text: in the ,text:content:Expenses,plain_text:Expenses,text:content: table. Find you totals at the bottom of each table, labelled ,plain_text: table. Find you totals at the bottom of each table, labelled ,text:content:SUM,plain_text:SUM,text:content:.,plain_text:.],children:[children:[child_database:title:Income (Monthly)],children:[child_database:title:Expenses (Monthly)]]]\n",
      "page_data:properties:title:title:[text:content:Travel Planner,plain_text:Travel Planner],content:[heading_1:rich_text:[text:content:Packing list,plain_text:Packing list],paragraph:rich_text:[text:content:Expand each category below by clicking the ▶ to see your packing checklist.,plain_text:Expand each category below by clicking the ▶ to see your packing checklist.],children:[to_do:rich_text:[text:content:Underwear,plain_text:Underwear],to_do:rich_text:[text:content:Socks,plain_text:Socks],to_do:rich_text:[text:content:Sleepwear,plain_text:Sleepwear],to_do:rich_text:[text:content:T-shirts,plain_text:T-shirts],to_do:rich_text:[text:content:Casual shirts/blouses,plain_text:Casual shirts/blouses],to_do:rich_text:[text:content:Pants/jeans,plain_text:Pants/jeans],to_do:rich_text:[text:content:Shorts/skirts,plain_text:Shorts/skirts],to_do:rich_text:[text:content:Dresses (if applicable),plain_text:Dresses (if applicable)],to_do:rich_text:[text:content:Sweaters/jackets (consider the destination's climate),plain_text:Sweaters/jackets (consider the destination's climate)],to_do:rich_text:[text:content:Swimwear (if applicable),plain_text:Swimwear (if applicable)],to_do:rich_text:[text:content:Comfortable walking shoes,plain_text:Comfortable walking shoes],to_do:rich_text:[text:content:Sandals/flip-flops (for warm destinations or indoor use),plain_text:Sandals/flip-flops (for warm destinations or indoor use)],to_do:rich_text:[text:content:Hats/caps for sun protection,plain_text:Hats/caps for sun protection]],children:[to_do:rich_text:[text:content:Toothbrush and toothpaste,plain_text:Toothbrush and toothpaste],to_do:rich_text:[text:content:Shampoo and conditioner,plain_text:Shampoo and conditioner],to_do:rich_text:[text:content:Body wash or soap,plain_text:Body wash or soap],to_do:rich_text:[text:content:Deodorant,plain_text:Deodorant],to_do:rich_text:[text:content:Skincare products (moisturizer, sunscreen, etc.),plain_text:Skincare products (moisturizer, sunscreen, etc.)],to_do:rich_text:[text:content:Razor and shaving cream (if applicable),plain_text:Razor and shaving cream (if applicable)],to_do:rich_text:[text:content:Hairbrush or comb,plain_text:Hairbrush or comb],to_do:rich_text:[text:content:Makeup and makeup remover (if applicable),plain_text:Makeup and makeup remover (if applicable)]],children:[to_do:rich_text:[text:content:Smartphone and charger,plain_text:Smartphone and charger],to_do:rich_text:[text:content:Power bank/portable charger,plain_text:Power bank/portable charger],to_do:rich_text:[text:content:Headphones or earbuds,plain_text:Headphones or earbuds],to_do:rich_text:[text:content:Camera and charger (if not using a smartphone camera),plain_text:Camera and charger (if not using a smartphone camera)],to_do:rich_text:[text:content:Laptop or tablet and charger (if needed for work or entertainment),plain_text:Laptop or tablet and charger (if needed for work or entertainment)],to_do:rich_text:[text:content:Travel adapter and/or voltage converter (for international travel),plain_text:Travel adapter and/or voltage converter (for international travel)],to_do:rich_text:[text:content:E-reader (if preferred for reading),plain_text:E-reader (if preferred for reading)],to_do:rich_text:[text:content:Memory cards and extra batteries (for cameras, etc.),plain_text:Memory cards and extra batteries (for cameras, etc.)]],children:[to_do:rich_text:[text:content:Passport/Visa(s),plain_text:Passport/Visa(s)],to_do:rich_text:[text:content:Personal ID/Driver's license,plain_text:Personal ID/Driver's license],to_do:rich_text:[text:content:Flight tickets/boarding passes,plain_text:Flight tickets/boarding passes],to_do:rich_text:[text:content:Accommodation booking confirmations,plain_text:Accommodation booking confirmations],to_do:rich_text:[text:content:Emergency contact list,plain_text:Emergency contact list],to_do:rich_text:[text:content:Maps and directions (printed or saved offline),plain_text:Maps and directions (printed or saved offline)],to_do:rich_text:[text:content:Travel guides or itinerary,plain_text:Travel guides or itinerary]],heading_1:rich_text:[text:content:Itinerary,plain_text:Itinerary],paragraph:rich_text:[text:content:Fill in your planned activities, corresponding dates, and any notes to customize your itinerary.,plain_text:Fill in your planned activities, corresponding dates, and any notes to customize your itinerary.],child_database:title:Schedule]\n",
      "page_data:properties:title:title:[text:content:Journal,plain_text:Journal],content:[paragraph:rich_text:[text:content:↓ Click this button to add a new journal entry,plain_text:↓ Click this button to add a new journal entry],heading_1:rich_text:[mention:date:start:2024-03-04,plain_text:2024-03-04,text:content: — A Peaceful Forest Walk,plain_text: — A Peaceful Forest Walk],children:[paragraph:rich_text:[text:content:I decided to take advantage of the beautiful weather today by going for a walk in the nearby forest preserve. The sunlight filtered through the canopy above, casting dappled shadows on the forest floor. The air was filled with the sweet scent of blooming flowers and the gentle hum of insects. As I walked, I felt a deep sense of gratitude for the natural world and its ability to bring peace to my mind. I stopped by a small clearing to enjoy a picnic lunch, accompanied by the melodious songs of birds in the trees. Today was a wonderful reminder to make time for nature and to appreciate the simple pleasures it provides.,plain_text:I decided to take advantage of the beautiful weather today by going for a walk in the nearby forest preserve. The sunlight filtered through the canopy above, casting dappled shadows on the forest floor. The air was filled with the sweet scent of blooming flowers and the gentle hum of insects. As I walked, I felt a deep sense of gratitude for the natural world and its ability to bring peace to my mind. I stopped by a small clearing to enjoy a picnic lunch, accompanied by the melodious songs of birds in the trees. Today was a wonderful reminder to make time for nature and to appreciate the simple pleasures it provides.]]]\n",
      "page_data:properties:title:title:[text:content:Job Application Tracker,plain_text:Job Application Tracker],content:[heading_2:rich_text:[text:content:Resume,plain_text:Resume],paragraph:rich_text:[text:content:↓ Upload your resume by clicking the block below and choosing a file from your computer,plain_text:↓ Upload your resume by clicking the block below and choosing a file from your computer],heading_2:rich_text:[text:content:Positions to apply to,plain_text:Positions to apply to],paragraph:rich_text:[text:content:↓ Move your applications along the status pipeline,plain_text:↓ Move your applications along the status pipeline],child_database:title:Applications,heading_2:rich_text:[text:content:Action items,plain_text:Action items],paragraph:rich_text:[text:content:Outline and prioritize tasks for your job search journey.,plain_text:Outline and prioritize tasks for your job search journey.],to_do:rich_text:[text:content:Update LinkedIn profile,plain_text:Update LinkedIn profile],to_do:checked:True,to_do:rich_text:[text:content:Refine portfolio to be more UX oriented,plain_text:Refine portfolio to be more UX oriented],to_do:checked:True,to_do:rich_text:[text:content:Send Emma a follow-up email to express gratitude ,plain_text:Send Emma a follow-up email to express gratitude ]]\n",
      "page_data:properties:title:title:[text:content:Meal Planner,plain_text:Meal Planner],content:[paragraph:rich_text:[text:content: ↓ Click the button below at the start of every week to clear the current meal plan.,plain_text: ↓ Click the button below at the start of every week to clear the current meal plan.],heading_1:rich_text:[text:content:Weekly Plan,plain_text:Weekly Plan],paragraph:rich_text:[text:content:To edit meals from a specific day of the week, click on the meal entry you want to modify.,plain_text:To edit meals from a specific day of the week, click on the meal entry you want to modify.],child_database:title:Weekly Plan,heading_1:rich_text:[text:content:Meals,plain_text:Meals],paragraph:rich_text:[text:content:Here’s a list of all meals you’ve saved. You can easily add another meal by clicking ,plain_text:Here’s a list of all meals you’ve saved. You can easily add another meal by clicking ,text:content:+ New,plain_text:+ New,text:content: ,plain_text: ],paragraph:rich_text:[text:content:Click into a meal card to add cooking directions and ingredients needed for that meal.,plain_text:Click into a meal card to add cooking directions and ingredients needed for that meal.],child_database:title:Meals]\n",
      "page_data:properties:title:title:[text:content:Personal Website,plain_text:Personal Website],content:[children:[children:[callout:rich_text:[text:content:Hello! I'm Ada Lee, a multidisciplinary designer based in San Francisco.,plain_text:Hello! I'm Ada Lee, a multidisciplinary designer based in San Francisco.,text:content: With over 8 years of experience, I thrive at the intersection of digital design, UX/UI, and brand identity. My passion lies in crafting seamless user experiences and visually compelling designs that resonate with audiences and drive engagement.,plain_text: With over 8 years of experience, I thrive at the intersection of digital design, UX/UI, and brand identity. My passion lies in crafting seamless user experiences and visually compelling designs that resonate with audiences and drive engagement.]]],heading_1:rich_text:[text:content:🌈 About Me,plain_text:🌈 About Me],paragraph:rich_text:[text:content:I'm a creative thinker, a problem solver, and an avid learner, always exploring new trends and techniques in design. When I'm not pushing pixels, you can find me with a sketchbook, capturing the world or lost in the pages of a good design book.,plain_text:I'm a creative thinker, a problem solver, and an avid learner, always exploring new trends and techniques in design. When I'm not pushing pixels, you can find me with a sketchbook, capturing the world or lost in the pages of a good design book.],heading_1:rich_text:[text:content:💼 Experience,plain_text:💼 Experience],heading_3:rich_text:[text:content:Senior UX/UI Designer - Creative Minds Inc. | June 2018 - Present,plain_text:Senior UX/UI Designer - Creative Minds Inc. | June 2018 - Present],bulleted_list_item:rich_text:[text:content:Lead the design of intuitive user interfaces for mobile and web applications, enhancing user satisfaction and engagement.,plain_text:Lead the design of intuitive user interfaces for mobile and web applications, enhancing user satisfaction and engagement.],bulleted_list_item:rich_text:[text:content:Collaborate with cross-functional teams to create cohesive brand experiences across all platforms.,plain_text:Collaborate with cross-functional teams to create cohesive brand experiences across all platforms.],bulleted_list_item:rich_text:[text:content:Mentor junior designers, fostering a collaborative and innovative design culture.,plain_text:Mentor junior designers, fostering a collaborative and innovative design culture.],heading_3:rich_text:[text:content:Graphic Designer - BrandWorks Agency | Jan 2014 - May 2018,plain_text:Graphic Designer - BrandWorks Agency | Jan 2014 - May 2018],bulleted_list_item:rich_text:[text:content:Developed brand identities, including logos, typography, and color schemes, for over 30 clients.,plain_text:Developed brand identities, including logos, typography, and color schemes, for over 30 clients.],bulleted_list_item:rich_text:[text:content:Produced marketing materials, digital ads, and promotional content, resulting in a 25% increase in client engagement for key accounts.,plain_text:Produced marketing materials, digital ads, and promotional content, resulting in a 25% increase in client engagement for key accounts.],heading_1:rich_text:[text:content:🎓 Education,plain_text:🎓 Education],heading_3:rich_text:[text:content:Master of Fine Arts in Design - Rhode Island School of Design | 2013,plain_text:Master of Fine Arts in Design - Rhode Island School of Design | 2013],bulleted_list_item:rich_text:[text:content:Specialized in Digital + Media,plain_text:Specialized in Digital + Media],bulleted_list_item:rich_text:[text:content:Thesis: \"Interactivity and User Engagement in Digital Platforms\",plain_text:Thesis: \"Interactivity and User Engagement in Digital Platforms\"],heading_3:rich_text:[text:content:Bachelor of Arts in Graphic Design - University of California, Berkeley | 2011,plain_text:Bachelor of Arts in Graphic Design - University of California, Berkeley | 2011],bulleted_list_item:rich_text:[text:content:Graduated with Honors,plain_text:Graduated with Honors],bulleted_list_item:rich_text:[text:content:Relevant coursework: Typography, Web Design, Digital Photography,plain_text:Relevant coursework: Typography, Web Design, Digital Photography],heading_1:rich_text:[text:content:🚀 Projects,plain_text:🚀 Projects],heading_3:rich_text:[text:content:\"EcoLife\" Mobile App,plain_text:\"EcoLife\" Mobile App],bulleted_list_item:rich_text:[text:content:An environmentally-focused app designed to encourage sustainable living through daily challenges, tips, and community engagement.,plain_text:An environmentally-focused app designed to encourage sustainable living through daily challenges, tips, and community engagement.],bulleted_list_item:rich_text:[text:content:Role: Lead Designer,plain_text:Role: Lead Designer],bulleted_list_item:rich_text:[text:content:Tools: Sketch, InVision, Adobe Creative Suite,plain_text:Tools: Sketch, InVision, Adobe Creative Suite],heading_3:rich_text:[text:content:\"Brand Reimagined\" - Cafe Fresco,plain_text:\"Brand Reimagined\" - Cafe Fresco],bulleted_list_item:rich_text:[text:content:A complete rebranding project for a local café, including logo redesign, packaging, and in-store visuals, resulting in a 40% increase in foot traffic.,plain_text:A complete rebranding project for a local café, including logo redesign, packaging, and in-store visuals, resulting in a 40% increase in foot traffic.],bulleted_list_item:rich_text:[text:content:Role: Brand Strategist & Designer,plain_text:Role: Brand Strategist & Designer],bulleted_list_item:rich_text:[text:content:Tools: Illustrator, Photoshop, Procreate,plain_text:Tools: Illustrator, Photoshop, Procreate],heading_1:rich_text:[text:content:🔨 Skills,plain_text:🔨 Skills],bulleted_list_item:rich_text:[text:content:User Experience (UX) Design,plain_text:User Experience (UX) Design],bulleted_list_item:rich_text:[text:content:User Interface (UI) Design,plain_text:User Interface (UI) Design],bulleted_list_item:rich_text:[text:content:Branding & Visual Identity,plain_text:Branding & Visual Identity],bulleted_list_item:rich_text:[text:content:Adobe Creative Suite,plain_text:Adobe Creative Suite],bulleted_list_item:rich_text:[text:content:Sketch & InVision,plain_text:Sketch & InVision],bulleted_list_item:rich_text:[text:content:Prototyping & Wireframing,plain_text:Prototyping & Wireframing],heading_1:rich_text:[text:content:📬 Contact,plain_text:📬 Contact],paragraph:rich_text:[text:content:Let's create something amazing together! Reach out to me at:,plain_text:Let's create something amazing together! Reach out to me at:],bulleted_list_item:rich_text:[text:content:Email: ,plain_text:Email: ,text:content:ada@yourdomain.com,plain_text:ada@yourdomain.com],bulleted_list_item:rich_text:[text:content:LinkedIn: ,plain_text:LinkedIn: ,text:content:linkedin.com/in/adalee,plain_text:linkedin.com/in/adalee],bulleted_list_item:rich_text:[text:content:Portfolio: ,plain_text:Portfolio: ,text:content:adaleedesigns.com,plain_text:adaleedesigns.com],paragraph:rich_text:[text:content:Thanks for stopping by my corner of the internet! 💫,plain_text:Thanks for stopping by my corner of the internet! 💫]]\n",
      "page_data:properties:title:title:[text:content:Weekly To-do List,plain_text:Weekly To-do List],content:[paragraph:rich_text:[text:content:Add your weekly to-do’s. You can always add more by typing ,plain_text:Add your weekly to-do’s. You can always add more by typing ,text:content:/to-do,plain_text:/to-do,text:content: in an empty space. Click this button to create a fresh set of to-do’s for a new week. You can drag any old to-do’s from last week to the new week. ↓,plain_text: in an empty space. Click this button to create a fresh set of to-do’s for a new week. You can drag any old to-do’s from last week to the new week. ↓],heading_1:rich_text:[text:content:March 4 - March 9,plain_text:March 4 - March 9],children:[children:[heading_3:rich_text:[text:content: Mon,plain_text: Mon],to_do:rich_text:[text:content:Call Mom,plain_text:Call Mom],to_do:checked:True,to_do:rich_text:[text:content:Book appt,plain_text:Book appt],to_do:checked:True],children:[heading_3:rich_text:[text:content: Tues,plain_text: Tues]],children:[heading_3:rich_text:[text:content: Wed,plain_text: Wed]],children:[heading_3:rich_text:[text:content: Thur,plain_text: Thur]],children:[heading_3:rich_text:[text:content: Fri,plain_text: Fri]],children:[heading_3:rich_text:[text:content: Sat,plain_text: Sat]],children:[heading_3:rich_text:[text:content: Sun,plain_text: Sun]]]]\n",
      "page_data:properties:Rating:select:name:⭐️⭐️⭐️⭐️⭐️,page_data:properties:Category:select:name:Historical,page_data:properties:Author:rich_text:[text:content:Me,plain_text:Me],page_data:properties:Status:status:name:Not started,page_data:properties:Title:title:[text:content:New book,plain_text:New book],content:[heading_2:rich_text:[text:content:Notes,plain_text:Notes],bulleted_list_item:rich_text:[text:content:to do,plain_text:to do]]\n",
      "page_data:properties:Stage:status:name:To apply,page_data:properties:Company:title:[text:content:Company Name,plain_text:Company Name],content:[heading_1:rich_text:[text:content:Action items,plain_text:Action items],heading_1:rich_text:[text:content:Notes on the company ,plain_text:Notes on the company ],heading_1:rich_text:[text:content:Where can I add value?,plain_text:Where can I add value?],heading_1:rich_text:[text:content:What am I excited about? What will I learn?,plain_text:What am I excited about? What will I learn?],heading_1:rich_text:[text:content:Notes on recruiter/hiring manager,plain_text:Notes on recruiter/hiring manager]]\n",
      "page_data:properties:Position:rich_text:[text:content:UX Designer,plain_text:UX Designer],page_data:properties:Stage:status:name:Applied,page_data:properties:Company:title:[text:content:Figma,plain_text:Figma],content:[heading_1:rich_text:[text:content:Action items,plain_text:Action items],heading_1:rich_text:[text:content:Notes on the company ,plain_text:Notes on the company ],heading_1:rich_text:[text:content:Where can I add value?,plain_text:Where can I add value?],heading_1:rich_text:[text:content:What am I excited about? What will I learn?,plain_text:What am I excited about? What will I learn?],heading_1:rich_text:[text:content:Notes on recruiter/hiring manager,plain_text:Notes on recruiter/hiring manager]]\n",
      "page_data:properties:Position:rich_text:[text:content:Product Designer,plain_text:Product Designer],page_data:properties:Stage:status:name:To apply,page_data:properties:Company:title:[text:content:Slack,plain_text:Slack],content:[heading_1:rich_text:[text:content:Action items,plain_text:Action items],heading_1:rich_text:[text:content:Notes on the company ,plain_text:Notes on the company ],heading_1:rich_text:[text:content:Where can I add value?,plain_text:Where can I add value?],heading_1:rich_text:[text:content:What am I excited about? What will I learn?,plain_text:What am I excited about? What will I learn?],heading_1:rich_text:[text:content:Notes on recruiter/hiring manager,plain_text:Notes on recruiter/hiring manager]]\n",
      "page_data:properties:Position:rich_text:[text:content:Product Designer,plain_text:Product Designer],page_data:properties:Stage:status:name:To apply,page_data:properties:Company:title:[text:content:Stripe,plain_text:Stripe],content:[heading_1:rich_text:[text:content:Action items,plain_text:Action items],heading_1:rich_text:[text:content:Notes on the company ,plain_text:Notes on the company ],heading_1:rich_text:[text:content:Where can I add value?,plain_text:Where can I add value?],heading_1:rich_text:[text:content:What am I excited about? What will I learn?,plain_text:What am I excited about? What will I learn?],heading_1:rich_text:[text:content:Notes on recruiter/hiring manager,plain_text:Notes on recruiter/hiring manager]]\n",
      "page_data:properties:Position:rich_text:[text:content:Creative Designer,plain_text:Creative Designer],page_data:properties:Stage:status:name:Offer,page_data:properties:Company:title:[text:content:Notion Labs,plain_text:Notion Labs],content:[callout:rich_text:[text:content:Create a new page and select ,plain_text:Create a new page and select ,text:content:New Role,plain_text:New Role,text:content: from the list of template options to generate the format below. Get your talking points and next steps on lock.,plain_text: from the list of template options to generate the format below. Get your talking points and next steps on lock.],heading_1:rich_text:[text:content:Action items,plain_text:Action items],heading_1:rich_text:[text:content:Notes on the company ,plain_text:Notes on the company ],heading_1:rich_text:[text:content:Where can I add value?,plain_text:Where can I add value?],heading_1:rich_text:[text:content:What am I excited about? What will I learn?,plain_text:What am I excited about? What will I learn?],heading_1:rich_text:[text:content:Notes on recruiter/hiring manager,plain_text:Notes on recruiter/hiring manager]]\n",
      "page_data:properties:Tags:multi_select:[name:Protein-rich,name:Keto],page_data:properties:Meal:multi_select:[name:Breakfast],page_data:properties:Meal Name:title:[text:content:Egg Muffins,plain_text:Egg Muffins],content:[children:[children:[heading_2:rich_text:[text:content:Ingredients,plain_text:Ingredients]],children:[heading_2:rich_text:[text:content:Steps,plain_text:Steps]]]]\n",
      "page_data:properties:Tags:multi_select:[name:Vegan,name:Fiber-rich],page_data:properties:Meal:multi_select:[name:Lunch],page_data:properties:Meal Name:title:[text:content:Quinoa and Black Bean Bowl,plain_text:Quinoa and Black Bean Bowl],content:[children:[children:[heading_2:rich_text:[text:content:Ingredients,plain_text:Ingredients]],children:[heading_2:rich_text:[text:content:Steps,plain_text:Steps]]]]\n",
      "page_data:properties:Day of the week:title:[text:content:Thursday,plain_text:Thursday]\n",
      "page_data:properties:Day of the week:title:[text:content:Tuesday,plain_text:Tuesday]\n",
      "page_data:properties:Tags:multi_select:[name:Healthy,name:Quick],page_data:properties:Meal:multi_select:[name:Breakfast],page_data:properties:Meal Name:title:[text:content:Smoothie,plain_text:Smoothie],content:[children:[children:[heading_2:rich_text:[text:content:Ingredients,plain_text:Ingredients]],children:[heading_2:rich_text:[text:content:Steps,plain_text:Steps]]]]\n",
      "page_data:properties:Day of the week:title:[text:content:Wednesday,plain_text:Wednesday]\n",
      "page_data:properties:Tags:multi_select:[name:High-protein,name:Fast],page_data:properties:Meal:multi_select:[name:Dinner],page_data:properties:Meal Name:title:[text:content:Beef Stir-Fry,plain_text:Beef Stir-Fry],content:[children:[children:[heading_2:rich_text:[text:content:Ingredients,plain_text:Ingredients]],children:[heading_2:rich_text:[text:content:Steps,plain_text:Steps]]]]\n",
      "page_data:properties:Tags:multi_select:[name:Protein-rich,name:Low-fat],page_data:properties:Meal:multi_select:[name:Dinner],page_data:properties:Meal Name:title:[text:content:Turkey Stuffed Peppers,plain_text:Turkey Stuffed Peppers],content:[children:[children:[heading_2:rich_text:[text:content:Ingredients,plain_text:Ingredients]],children:[heading_2:rich_text:[text:content:Steps,plain_text:Steps]]]]\n",
      "page_data:properties:Tags:multi_select:[name:Healthy,name:Quick],page_data:properties:Meal:multi_select:[name:Breakfast],page_data:properties:Meal Name:title:[text:content:Overnight Oats,plain_text:Overnight Oats],content:[children:[children:[heading_2:rich_text:[text:content:Ingredients,plain_text:Ingredients]],children:[heading_2:rich_text:[text:content:Steps,plain_text:Steps]]]]\n",
      "page_data:properties:Meal Name:title:[text:content:New Meal,plain_text:New Meal],content:[children:[children:[heading_2:rich_text:[text:content:Ingredients,plain_text:Ingredients]],children:[heading_2:rich_text:[text:content:Steps,plain_text:Steps]]]]\n",
      "page_data:properties:Tags:multi_select:[name:Healthy,name:Omega-3s],page_data:properties:Meal:multi_select:[name:Dinner],page_data:properties:Meal Name:title:[text:content:Salmon and Asparagus,plain_text:Salmon and Asparagus],content:[children:[children:[heading_2:rich_text:[text:content:Ingredients,plain_text:Ingredients]],children:[heading_2:rich_text:[text:content:Steps,plain_text:Steps]]]]\n",
      "page_data:properties:Day of the week:title:[text:content:Monday,plain_text:Monday]\n",
      "page_data:properties:Tags:multi_select:[name:Vegan,name:Comfort],page_data:properties:Meal:multi_select:[name:Lunch,name:Dinner],page_data:properties:Meal Name:title:[text:content:Lentil Soup,plain_text:Lentil Soup],content:[children:[children:[heading_2:rich_text:[text:content:Ingredients,plain_text:Ingredients]],children:[heading_2:rich_text:[text:content:Steps,plain_text:Steps]]]]\n",
      "page_data:properties:Tags:multi_select:[name:Healthy,name:Low-carb],page_data:properties:Meal:multi_select:[name:Lunch],page_data:properties:Meal Name:title:[text:content:Chicken Salad,plain_text:Chicken Salad]\n",
      "page_data:properties:Day of the week:title:[text:content:Friday,plain_text:Friday]\n",
      "page_data:properties:Day of the week:title:[text:content:Saturday,plain_text:Saturday]\n",
      "page_data:properties:Day of the week:title:[text:content:Sunday,plain_text:Sunday]\n",
      "page_data:properties:Amount:number:150,page_data:properties:Expense Item:title:[text:content:Groceries,plain_text:Groceries]\n",
      "page_data:properties:Amount:number:2000,page_data:properties:Expense Item:title:[text:content:Rent,plain_text:Rent]\n",
      "page_data:properties:Amount:number:150,page_data:properties:Income Item:title:[text:content:Bday Cash,plain_text:Bday Cash]\n",
      "page_data:properties:Amount:number:450,page_data:properties:Income Item:title:[text:content:Side Gig,plain_text:Side Gig]\n",
      "page_data:properties:Amount:number:65,page_data:properties:Expense Item:title:[text:content:Dinner with Rachel,plain_text:Dinner with Rachel]\n",
      "page_data:properties:Amount:number:3500,page_data:properties:Income Item:title:[text:content:Salary,plain_text:Salary]\n",
      "page_data:properties:Date:date:start:2024-03-08,page_data:properties:Activity:title:[text:content:Central park,plain_text:Central park],content:[callout:rich_text:[text:content:Notion Tip: ,plain_text:Notion Tip: ,text:content:Use the space below to add any files, links, or images that may be important.,plain_text:Use the space below to add any files, links, or images that may be important.]]\n",
      "page_data:properties:Date:date:start:2024-03-10,page_data:properties:Activity:title:[text:content:Statue of liberty,plain_text:Statue of liberty],content:[callout:rich_text:[text:content:Notion Tip: ,plain_text:Notion Tip: ,text:content:Use the space below to add any files, links, or images that may be important.,plain_text:Use the space below to add any files, links, or images that may be important.]]\n",
      "page_data:properties:Date:date:start:2024-03-09,page_data:properties:Notes:rich_text:[text:content:Super long line, go early!,plain_text:Super long line, go early!],page_data:properties:Activity:title:[text:content:Joe’s pizza,plain_text:Joe’s pizza],content:[callout:rich_text:[text:content:Notion Tip: ,plain_text:Notion Tip: ,text:content:Use the space below to add any files, links, or images that may be important.,plain_text:Use the space below to add any files, links, or images that may be important.]]\n",
      "page_data:properties:Date:date:start:2024-03-06T00:00:00.000+02:00,page_data:properties:Notes:rich_text:[text:content:Flight Code: AA100,plain_text:Flight Code: AA100],page_data:properties:Activity:title:[text:content:Departing flight,plain_text:Departing flight],content:[callout:rich_text:[text:content:Notion Tip:,plain_text:Notion Tip:,text:content: Use the space below to add any files, links, or images that may be important.,plain_text: Use the space below to add any files, links, or images that may be important.]]\n",
      "page_data:properties:Date:date:start:2024-03-16T08:00:00.000+02:00,page_data:properties:Activity:title:[text:content:Arrival flight,plain_text:Arrival flight],content:[callout:rich_text:[text:content:Notion Tip: ,plain_text:Notion Tip: ,text:content:Use the space below to add any files, links, or images that may be important.,plain_text:Use the space below to add any files, links, or images that may be important.]]\n",
      "page_data:properties:Practiced guitar:checkbox:True,page_data:properties:Full Date:date:start:2024-03-21,page_data:properties:Ran today:checkbox:True,page_data:properties:Date:title:[mention:date:start:2024-03-21,plain_text:2024-03-21,text:content: ,plain_text: ]\n",
      "page_data:properties:Full Date:date:start:2024-03-19,page_data:properties:Ran today:checkbox:True,page_data:properties:Date:title:[mention:date:start:2024-03-19,plain_text:2024-03-19,text:content: ,plain_text: ]\n",
      "page_data:properties:Full Date:date:start:2024-03-23,page_data:properties:Meditated:checkbox:True,page_data:properties:Date:title:[mention:date:start:2024-03-23,plain_text:2024-03-23,text:content:  ,plain_text:  ]\n",
      "page_data:properties:Date:title:[mention:template_mention:template_mention_date:today,plain_text:@Today,text:content: ,plain_text: ]\n",
      "page_data:properties:Practiced guitar:checkbox:True,page_data:properties:Full Date:date:start:2024-03-24,page_data:properties:Meditated:checkbox:True,page_data:properties:Ran today:checkbox:True,page_data:properties:Date:title:[mention:date:start:2024-03-24,plain_text:2024-03-24,text:content: ,plain_text: ]\n",
      "page_data:properties:Full Date:date:start:2024-03-18,page_data:properties:Date:title:[mention:date:start:2024-03-18,plain_text:2024-03-18,text:content: ,plain_text: ]\n",
      "page_data:properties:Practiced guitar:checkbox:True,page_data:properties:Full Date:date:start:2024-03-20,page_data:properties:Meditated:checkbox:True,page_data:properties:Date:title:[mention:date:start:2024-03-20,plain_text:2024-03-20,text:content: ,plain_text: ]\n",
      "page_data:properties:Practiced guitar:checkbox:True,page_data:properties:Full Date:date:start:2024-03-22,page_data:properties:Meditated:checkbox:True,page_data:properties:Ran today:checkbox:True,page_data:properties:Date:title:[mention:date:start:2024-03-22,plain_text:2024-03-22,text:content: ,plain_text: ]\n",
      "page_data:properties:Category:select:name:Science Fiction,page_data:properties:Author:rich_text:[text:content:George Orwell,plain_text:George Orwell],page_data:properties:Status:status:name:Reading,page_data:properties:Title:title:[text:content:1984,plain_text:1984],content:[heading_2:rich_text:[text:content:Notes,plain_text:Notes]]\n",
      "page_data:properties:Status:status:name:Not started,page_data:properties:Title:title:[text:content:New book,plain_text:New book],content:[heading_2:rich_text:[text:content:Notes,plain_text:Notes]]\n",
      "page_data:properties:Category:select:name:Biography,page_data:properties:Author:rich_text:[text:content:Anne Frank,plain_text:Anne Frank],page_data:properties:Status:status:name:Not started,page_data:properties:Title:title:[text:content:The Diary of a Young Girl,plain_text:The Diary of a Young Girl],content:[heading_2:rich_text:[text:content:Notes,plain_text:Notes]]\n",
      "page_data:properties:Category:select:name:Mystery,page_data:properties:Author:rich_text:[text:content:Stieg Larsson,plain_text:Stieg Larsson],page_data:properties:Status:status:name:Not started,page_data:properties:Title:title:[text:content:The Girl with the Dragon Tattoo,plain_text:The Girl with the Dragon Tattoo],content:[heading_2:rich_text:[text:content:Notes,plain_text:Notes]]\n",
      "page_data:properties:Rating:select:name:⭐️⭐️⭐️⭐️,page_data:properties:Category:select:name:Science Fiction,page_data:properties:Author:rich_text:[text:content:Aldous Huxley,plain_text:Aldous Huxley],page_data:properties:Status:status:name:Completed,page_data:properties:Title:title:[text:content:Brave New World,plain_text:Brave New World],content:[heading_2:rich_text:[text:content:Notes,plain_text:Notes]]\n",
      "page_data:properties:Rating:select:name:⭐️⭐️,page_data:properties:Category:select:name:Classic Literature,page_data:properties:Author:rich_text:[text:content:Harper Lee,plain_text:Harper Lee],page_data:properties:Status:status:name:Completed,page_data:properties:Title:title:[text:content:To Kill a Mockingbird,plain_text:To Kill a Mockingbird],content:[heading_2:rich_text:[text:content:Notes,plain_text:Notes]]\n",
      "page_data:properties:Status:status:name:Done,page_data:properties:Project:title:[text:content:Host the event and collect donations,plain_text:Host the event and collect donations]\n",
      "page_data:properties:Status:status:name:Done,page_data:properties:Project:title:[text:content:Secure a venue and date for the event,plain_text:Secure a venue and date for the event]\n",
      "page_data:properties:Status:status:name:Not started,page_data:properties:Project:title:[text:content:Prepare a submission or publish the book,plain_text:Prepare a submission or publish the book]\n",
      "page_data:properties:Status:status:name:Done,page_data:properties:Project:title:[text:content:Solicit donations or sponsorships,plain_text:Solicit donations or sponsorships]\n",
      "page_data:properties:Status:status:name:Not started,page_data:properties:Project:title:[text:content:Research publishing options (traditional, self-publishing),plain_text:Research publishing options (traditional, self-publishing)]\n",
      "page_data:properties:Status:status:name:Done,page_data:properties:Deadline:date:start:2024-03-04,page_data:properties:Project:title:[text:content:Organize a charity event,plain_text:Organize a charity event]\n",
      "page_data:properties:Status:status:name:Not started,page_data:properties:Project:title:[text:content:Obtain necessary permits for construction,plain_text:Obtain necessary permits for construction]\n",
      "page_data:properties:Status:status:name:Done,page_data:properties:Project:title:[text:content:Decide on the type of event (auction, race, gala dinner),plain_text:Decide on the type of event (auction, race, gala dinner)]\n",
      "page_data:properties:Status:status:name:Not started,page_data:properties:Project:title:[text:content:Define the genre and plot outline,plain_text:Define the genre and plot outline]\n",
      "page_data:properties:Status:status:name:Done,page_data:properties:Project:title:[text:content:Define the scope of the renovation (kitchen, bathroom, etc.),plain_text:Define the scope of the renovation (kitchen, bathroom, etc.)]\n",
      "page_data:properties:Status:status:name:Done,page_data:properties:Project:title:[text:content:Set a budget and timeline for the project,plain_text:Set a budget and timeline for the project]\n",
      "page_data:properties:Status:status:name:In progress,page_data:properties:Deadline:date:start:2024-04-26,page_data:properties:Project:title:[text:content:Home renovation,plain_text:Home renovation]\n",
      "page_data:properties:Status:status:name:In progress,page_data:properties:Project:title:[text:content:Research and hire contractors or decide on DIY,plain_text:Research and hire contractors or decide on DIY]\n",
      "page_data:properties:Status:status:name:Not started,page_data:properties:Deadline:date:start:2024-06-30,page_data:properties:Project:title:[text:content:Publish my first book,plain_text:Publish my first book]\n",
      "\n"
     ]
    }
   ],
   "source": [
    "formatted_data = [parse_dict(page) for page in corpus]\n",
    "text=\"\"\n",
    "\n",
    "for data in formatted_data:\n",
    "    text=text+data+\"\\n\""
   ]
  },
  {
   "cell_type": "code",
   "execution_count": null,
   "metadata": {},
   "outputs": [],
   "source": []
  }
 ],
 "metadata": {
  "kernelspec": {
   "display_name": "rag_env",
   "language": "python",
   "name": "python3"
  },
  "language_info": {
   "codemirror_mode": {
    "name": "ipython",
    "version": 3
   },
   "file_extension": ".py",
   "mimetype": "text/x-python",
   "name": "python",
   "nbconvert_exporter": "python",
   "pygments_lexer": "ipython3",
   "version": "3.11.5"
  }
 },
 "nbformat": 4,
 "nbformat_minor": 2
}
