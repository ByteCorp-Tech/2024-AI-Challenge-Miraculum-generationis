{
 "cells": [
  {
   "cell_type": "code",
   "execution_count": 1,
   "metadata": {},
   "outputs": [],
   "source": [
    "from notion_client import Client\n",
    "import os\n",
    "from dotenv import load_dotenv\n",
    "load_dotenv()\n",
    "NOTION_API_KEY=os.getenv(\"NOTION_API_KEY\")\n",
    "notion = Client(auth=NOTION_API_KEY)\n",
    "import json"
   ]
  },
  {
   "cell_type": "code",
   "execution_count": 2,
   "metadata": {},
   "outputs": [],
   "source": [
    "def fetch_block_children(block_id, notion):\n",
    "    \"\"\"Fetch all children blocks of a given block and include all block data.\"\"\"\n",
    "    block_children = notion.blocks.children.list(block_id=block_id)[\"results\"]\n",
    "    content = []\n",
    "    for block in block_children:\n",
    "        # Include the entire block information\n",
    "        content.append(block)\n",
    "        if \"has_children\" in block and block[\"has_children\"]:\n",
    "            # Recursively fetch children blocks and include their data\n",
    "            block[\"children\"] = fetch_block_children(block[\"id\"], notion)\n",
    "    return content\n",
    "\n",
    "def fetch_all_pages(notion):\n",
    "    \"\"\"Fetch all standalone pages in the workspace and include all page and block data.\"\"\"\n",
    "    pages = []\n",
    "    query_results = notion.search(filter={\"value\": \"page\", \"property\": \"object\"})[\"results\"]\n",
    "\n",
    "    for page in query_results:\n",
    "        page_details = {\"page_data\": page}  # Include the entire page information\n",
    "        page_id = page[\"id\"]\n",
    "        page_details[\"content\"] = fetch_block_children(page_id, notion)  # Include all block data\n",
    "        pages.append(page_details)\n",
    "\n",
    "    return pages\n",
    "\n",
    "def create_corpus(notion):\n",
    "    \"\"\"Create a corpus from all standalone pages in the workspace, including all data.\"\"\"\n",
    "    corpus = fetch_all_pages(notion)\n",
    "    return corpus"
   ]
  },
  {
   "cell_type": "code",
   "execution_count": 3,
   "metadata": {},
   "outputs": [],
   "source": [
    "corpus = create_corpus(notion)\n",
    "\n",
    "# Save the corpus to a JSON file\n",
    "with open(\"notion_corpus.json\", \"w\", encoding=\"utf-8\") as f:\n",
    "    json.dump(corpus, f, ensure_ascii=False, indent=4)"
   ]
  }
 ],
 "metadata": {
  "kernelspec": {
   "display_name": "rag_env",
   "language": "python",
   "name": "python3"
  },
  "language_info": {
   "codemirror_mode": {
    "name": "ipython",
    "version": 3
   },
   "file_extension": ".py",
   "mimetype": "text/x-python",
   "name": "python",
   "nbconvert_exporter": "python",
   "pygments_lexer": "ipython3",
   "version": "3.11.5"
  }
 },
 "nbformat": 4,
 "nbformat_minor": 2
}
