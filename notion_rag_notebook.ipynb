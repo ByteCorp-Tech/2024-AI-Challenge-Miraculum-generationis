{
 "cells": [
  {
   "cell_type": "code",
   "execution_count": 109,
   "metadata": {},
   "outputs": [],
   "source": [
    "from notion_client import Client\n",
    "import os\n",
    "from dotenv import load_dotenv\n",
    "load_dotenv()\n",
    "NOTION_API_KEY=os.getenv(\"NOTION_API_KEY\")\n",
    "notion = Client(auth=NOTION_API_KEY)\n",
    "import json"
   ]
  },
  {
   "cell_type": "code",
   "execution_count": 110,
   "metadata": {},
   "outputs": [],
   "source": [
    "def extract_text(block):\n",
    "    \"\"\"Extract text content from a block.\"\"\"\n",
    "    if \"text\" in block:\n",
    "        return \"\".join([text[\"plain_text\"] for text in block[\"text\"]])\n",
    "    return \"\"\n",
    "\n",
    "def fetch_block_children(block_id, notion, depth=0):\n",
    "    \"\"\"Fetch all children blocks of a given block recursively.\"\"\"\n",
    "    block_children = notion.blocks.children.list(block_id=block_id)[\"results\"]\n",
    "    content = []\n",
    "\n",
    "    for block in block_children:\n",
    "        block_type = block[\"type\"]\n",
    "        block_data = block[block_type]\n",
    "        block_content = {\"type\": block_type, \"content\": []}\n",
    "\n",
    "        # Extract text content for various block types\n",
    "        if block_type in [\"paragraph\", \"heading_1\", \"heading_2\", \"heading_3\", \"bulleted_list_item\", \"numbered_list_item\", \"to_do\", \"toggle\", \"quote\"]:\n",
    "            block_content[\"content\"].append(extract_text(block_data))\n",
    "\n",
    "        elif block_type == \"image\":\n",
    "            block_content[\"content\"].append(block_data[\"image\"][\"file\"][\"url\"])\n",
    "\n",
    "        elif block_type == \"child_page\":\n",
    "            block_content[\"content\"].append({\"title\": block_data[\"title\"]})\n",
    "\n",
    "        # Recursively fetch children for blocks that can contain other blocks\n",
    "        if \"has_children\" in block and block[\"has_children\"]:\n",
    "            block_content[\"children\"] = fetch_block_children(block[\"id\"], notion, depth + 1)\n",
    "\n",
    "        content.append(block_content)\n",
    "\n",
    "    return content\n",
    "\n",
    "def fetch_all_pages(notion):\n",
    "    \"\"\"Fetch all standalone pages in the workspace.\"\"\"\n",
    "    pages = []\n",
    "    query_results = notion.search(filter={\"value\": \"page\", \"property\": \"object\"})[\"results\"]\n",
    "\n",
    "    for page in query_results:\n",
    "        \n",
    "        page_id = page[\"id\"]\n",
    "        print(page_id)\n",
    "        print(page)\n",
    "        page_content = fetch_block_children(page_id, notion)\n",
    "        pages.append({\"page_id\": page_id, \"content\": page_content})\n",
    "\n",
    "    return pages\n",
    "\n",
    "def create_corpus(notion):\n",
    "    \"\"\"Create a corpus from all standalone pages in the workspace.\"\"\"\n",
    "    corpus = fetch_all_pages(notion)\n",
    "    return corpus"
   ]
  },
  {
   "cell_type": "code",
   "execution_count": 111,
   "metadata": {},
   "outputs": [
    {
     "name": "stdout",
     "output_type": "stream",
     "text": [
      "4bb67a2f-b3d5-450c-aa10-65fa3edbe1db\n",
      "{'object': 'page', 'id': '4bb67a2f-b3d5-450c-aa10-65fa3edbe1db', 'created_time': '2024-04-05T09:57:00.000Z', 'last_edited_time': '2024-04-05T17:03:00.000Z', 'created_by': {'object': 'user', 'id': 'ee0f78bc-69b2-4c8b-8b45-f90b287fb803'}, 'last_edited_by': {'object': 'user', 'id': 'ee0f78bc-69b2-4c8b-8b45-f90b287fb803'}, 'cover': {'type': 'external', 'external': {'url': 'https://images.unsplash.com/photo-1527345931282-806d3b11967f?ixlib=rb-4.0.3&q=85&fm=jpg&crop=entropy&cs=srgb'}}, 'icon': {'type': 'external', 'external': {'url': 'https://www.notion.so/icons/list_lightgray.svg'}}, 'parent': {'type': 'workspace', 'workspace': True}, 'archived': False, 'properties': {'title': {'id': 'title', 'type': 'title', 'title': [{'type': 'text', 'text': {'content': 'Weekly To-do List', 'link': None}, 'annotations': {'bold': False, 'italic': False, 'strikethrough': False, 'underline': False, 'code': False, 'color': 'default'}, 'plain_text': 'Weekly To-do List', 'href': None}]}}, 'url': 'https://www.notion.so/Weekly-To-do-List-4bb67a2fb3d5450caa1065fa3edbe1db', 'public_url': 'https://hammerhead-axolotl-25e.notion.site/Weekly-To-do-List-4bb67a2fb3d5450caa1065fa3edbe1db'}\n",
      "ca074483-25e2-4a18-8d2d-c17f43688fd2\n",
      "{'object': 'page', 'id': 'ca074483-25e2-4a18-8d2d-c17f43688fd2', 'created_time': '2024-04-05T10:02:00.000Z', 'last_edited_time': '2024-04-05T16:52:00.000Z', 'created_by': {'object': 'user', 'id': 'ee0f78bc-69b2-4c8b-8b45-f90b287fb803'}, 'last_edited_by': {'object': 'user', 'id': 'ee0f78bc-69b2-4c8b-8b45-f90b287fb803'}, 'cover': None, 'icon': None, 'parent': {'type': 'workspace', 'workspace': True}, 'archived': False, 'properties': {'title': {'id': 'title', 'type': 'title', 'title': [{'type': 'text', 'text': {'content': 'Testing', 'link': None}, 'annotations': {'bold': False, 'italic': False, 'strikethrough': False, 'underline': False, 'code': False, 'color': 'default'}, 'plain_text': 'Testing', 'href': None}]}}, 'url': 'https://www.notion.so/Testing-ca07448325e24a188d2dc17f43688fd2', 'public_url': 'https://hammerhead-axolotl-25e.notion.site/Testing-ca07448325e24a188d2dc17f43688fd2'}\n",
      "3bd4ef1a-1152-4736-8811-febd57c39fab\n",
      "{'object': 'page', 'id': '3bd4ef1a-1152-4736-8811-febd57c39fab', 'created_time': '2024-04-05T10:49:00.000Z', 'last_edited_time': '2024-04-05T10:50:00.000Z', 'created_by': {'object': 'user', 'id': 'ee0f78bc-69b2-4c8b-8b45-f90b287fb803'}, 'last_edited_by': {'object': 'user', 'id': 'ee0f78bc-69b2-4c8b-8b45-f90b287fb803'}, 'cover': None, 'icon': {'type': 'external', 'external': {'url': 'https://www.notion.so/icons/book-closed_gray.svg'}}, 'parent': {'type': 'database_id', 'database_id': '93382acd-38a8-4718-ab95-8adc23e76ac5'}, 'archived': False, 'properties': {'Rating': {'id': ')Y7%22', 'type': 'select', 'select': {'id': '5c944de7-3f4b-4567-b3a1-fa2c71c540b6', 'name': '⭐️⭐️⭐️⭐️⭐️', 'color': 'default'}}, 'Category': {'id': '%2F7eo', 'type': 'select', 'select': {'id': ']V_d', 'name': 'Historical', 'color': 'blue'}}, 'Author': {'id': 'qNw_', 'type': 'rich_text', 'rich_text': [{'type': 'text', 'text': {'content': 'Me', 'link': None}, 'annotations': {'bold': False, 'italic': False, 'strikethrough': False, 'underline': False, 'code': False, 'color': 'default'}, 'plain_text': 'Me', 'href': None}]}, 'Status': {'id': 'qRc%5C', 'type': 'status', 'status': {'id': '5df6d190-7e54-4fc7-a727-8e8e35b01c83', 'name': 'Not started', 'color': 'default'}}, 'Title': {'id': 'title', 'type': 'title', 'title': [{'type': 'text', 'text': {'content': 'New book', 'link': None}, 'annotations': {'bold': False, 'italic': False, 'strikethrough': False, 'underline': False, 'code': False, 'color': 'default'}, 'plain_text': 'New book', 'href': None}]}}, 'url': 'https://www.notion.so/New-book-3bd4ef1a115247368811febd57c39fab', 'public_url': None}\n",
      "5b8c880a-45b7-4b3f-afd8-1b11b04febc2\n",
      "{'object': 'page', 'id': '5b8c880a-45b7-4b3f-afd8-1b11b04febc2', 'created_time': '2024-04-05T09:57:00.000Z', 'last_edited_time': '2024-04-05T09:57:00.000Z', 'created_by': {'object': 'user', 'id': 'ee0f78bc-69b2-4c8b-8b45-f90b287fb803'}, 'last_edited_by': {'object': 'user', 'id': 'ee0f78bc-69b2-4c8b-8b45-f90b287fb803'}, 'cover': None, 'icon': {'type': 'emoji', 'emoji': '👁️'}, 'parent': {'type': 'database_id', 'database_id': '93382acd-38a8-4718-ab95-8adc23e76ac5'}, 'archived': False, 'properties': {'Rating': {'id': ')Y7%22', 'type': 'select', 'select': None}, 'Category': {'id': '%2F7eo', 'type': 'select', 'select': {'id': 'ONMK', 'name': 'Science Fiction', 'color': 'pink'}}, 'Author': {'id': 'qNw_', 'type': 'rich_text', 'rich_text': [{'type': 'text', 'text': {'content': 'George Orwell', 'link': None}, 'annotations': {'bold': False, 'italic': False, 'strikethrough': False, 'underline': False, 'code': False, 'color': 'default'}, 'plain_text': 'George Orwell', 'href': None}]}, 'Status': {'id': 'qRc%5C', 'type': 'status', 'status': {'id': 'e550e71c-9f29-4310-ade5-42e81eea7e59', 'name': 'Reading', 'color': 'blue'}}, 'Title': {'id': 'title', 'type': 'title', 'title': [{'type': 'text', 'text': {'content': '1984', 'link': None}, 'annotations': {'bold': False, 'italic': False, 'strikethrough': False, 'underline': False, 'code': False, 'color': 'default'}, 'plain_text': '1984', 'href': None}]}}, 'url': 'https://www.notion.so/1984-5b8c880a45b74b3fafd81b11b04febc2', 'public_url': None}\n",
      "b8bd35a1-d85b-47f2-8218-9834dbd12059\n",
      "{'object': 'page', 'id': 'b8bd35a1-d85b-47f2-8218-9834dbd12059', 'created_time': '2024-04-05T09:57:00.000Z', 'last_edited_time': '2024-04-05T09:57:00.000Z', 'created_by': {'object': 'user', 'id': 'ee0f78bc-69b2-4c8b-8b45-f90b287fb803'}, 'last_edited_by': {'object': 'user', 'id': 'ee0f78bc-69b2-4c8b-8b45-f90b287fb803'}, 'cover': None, 'icon': {'type': 'external', 'external': {'url': 'https://www.notion.so/icons/book-closed_gray.svg'}}, 'parent': {'type': 'database_id', 'database_id': '93382acd-38a8-4718-ab95-8adc23e76ac5'}, 'archived': False, 'properties': {'Rating': {'id': ')Y7%22', 'type': 'select', 'select': None}, 'Category': {'id': '%2F7eo', 'type': 'select', 'select': None}, 'Author': {'id': 'qNw_', 'type': 'rich_text', 'rich_text': []}, 'Status': {'id': 'qRc%5C', 'type': 'status', 'status': {'id': '5df6d190-7e54-4fc7-a727-8e8e35b01c83', 'name': 'Not started', 'color': 'default'}}, 'Title': {'id': 'title', 'type': 'title', 'title': [{'type': 'text', 'text': {'content': 'New book', 'link': None}, 'annotations': {'bold': False, 'italic': False, 'strikethrough': False, 'underline': False, 'code': False, 'color': 'default'}, 'plain_text': 'New book', 'href': None}]}}, 'url': 'https://www.notion.so/New-book-b8bd35a1d85b47f282189834dbd12059', 'public_url': None}\n",
      "bcb78d6e-76da-45d7-a87f-8d5b05fbcb0b\n",
      "{'object': 'page', 'id': 'bcb78d6e-76da-45d7-a87f-8d5b05fbcb0b', 'created_time': '2024-04-05T09:57:00.000Z', 'last_edited_time': '2024-04-05T09:57:00.000Z', 'created_by': {'object': 'user', 'id': 'ee0f78bc-69b2-4c8b-8b45-f90b287fb803'}, 'last_edited_by': {'object': 'user', 'id': 'ee0f78bc-69b2-4c8b-8b45-f90b287fb803'}, 'cover': None, 'icon': {'type': 'emoji', 'emoji': '📖'}, 'parent': {'type': 'database_id', 'database_id': '93382acd-38a8-4718-ab95-8adc23e76ac5'}, 'archived': False, 'properties': {'Rating': {'id': ')Y7%22', 'type': 'select', 'select': None}, 'Category': {'id': '%2F7eo', 'type': 'select', 'select': {'id': 'KVs?', 'name': 'Biography', 'color': 'brown'}}, 'Author': {'id': 'qNw_', 'type': 'rich_text', 'rich_text': [{'type': 'text', 'text': {'content': 'Anne Frank', 'link': None}, 'annotations': {'bold': False, 'italic': False, 'strikethrough': False, 'underline': False, 'code': False, 'color': 'default'}, 'plain_text': 'Anne Frank', 'href': None}]}, 'Status': {'id': 'qRc%5C', 'type': 'status', 'status': {'id': '5df6d190-7e54-4fc7-a727-8e8e35b01c83', 'name': 'Not started', 'color': 'default'}}, 'Title': {'id': 'title', 'type': 'title', 'title': [{'type': 'text', 'text': {'content': 'The Diary of a Young Girl', 'link': None}, 'annotations': {'bold': False, 'italic': False, 'strikethrough': False, 'underline': False, 'code': False, 'color': 'default'}, 'plain_text': 'The Diary of a Young Girl', 'href': None}]}}, 'url': 'https://www.notion.so/The-Diary-of-a-Young-Girl-bcb78d6e76da45d7a87f8d5b05fbcb0b', 'public_url': None}\n",
      "c24cfb07-efb0-4519-9138-f0ab838b2544\n",
      "{'object': 'page', 'id': 'c24cfb07-efb0-4519-9138-f0ab838b2544', 'created_time': '2024-04-05T09:57:00.000Z', 'last_edited_time': '2024-04-05T09:57:00.000Z', 'created_by': {'object': 'user', 'id': 'ee0f78bc-69b2-4c8b-8b45-f90b287fb803'}, 'last_edited_by': {'object': 'user', 'id': 'ee0f78bc-69b2-4c8b-8b45-f90b287fb803'}, 'cover': None, 'icon': {'type': 'emoji', 'emoji': '🐉'}, 'parent': {'type': 'database_id', 'database_id': '93382acd-38a8-4718-ab95-8adc23e76ac5'}, 'archived': False, 'properties': {'Rating': {'id': ')Y7%22', 'type': 'select', 'select': None}, 'Category': {'id': '%2F7eo', 'type': 'select', 'select': {'id': 'NQ=c', 'name': 'Mystery', 'color': 'orange'}}, 'Author': {'id': 'qNw_', 'type': 'rich_text', 'rich_text': [{'type': 'text', 'text': {'content': 'Stieg Larsson', 'link': None}, 'annotations': {'bold': False, 'italic': False, 'strikethrough': False, 'underline': False, 'code': False, 'color': 'default'}, 'plain_text': 'Stieg Larsson', 'href': None}]}, 'Status': {'id': 'qRc%5C', 'type': 'status', 'status': {'id': '5df6d190-7e54-4fc7-a727-8e8e35b01c83', 'name': 'Not started', 'color': 'default'}}, 'Title': {'id': 'title', 'type': 'title', 'title': [{'type': 'text', 'text': {'content': 'The Girl with the Dragon Tattoo', 'link': None}, 'annotations': {'bold': False, 'italic': False, 'strikethrough': False, 'underline': False, 'code': False, 'color': 'default'}, 'plain_text': 'The Girl with the Dragon Tattoo', 'href': None}]}}, 'url': 'https://www.notion.so/The-Girl-with-the-Dragon-Tattoo-c24cfb07efb045199138f0ab838b2544', 'public_url': None}\n",
      "db90bbb9-681e-40d4-a2fe-d8b98a8187de\n",
      "{'object': 'page', 'id': 'db90bbb9-681e-40d4-a2fe-d8b98a8187de', 'created_time': '2024-04-05T09:57:00.000Z', 'last_edited_time': '2024-04-05T09:57:00.000Z', 'created_by': {'object': 'user', 'id': 'ee0f78bc-69b2-4c8b-8b45-f90b287fb803'}, 'last_edited_by': {'object': 'user', 'id': 'ee0f78bc-69b2-4c8b-8b45-f90b287fb803'}, 'cover': None, 'icon': {'type': 'emoji', 'emoji': '🧪'}, 'parent': {'type': 'database_id', 'database_id': '93382acd-38a8-4718-ab95-8adc23e76ac5'}, 'archived': False, 'properties': {'Rating': {'id': ')Y7%22', 'type': 'select', 'select': {'id': 'b7307e35-c80a-4cb5-bb6b-6054523b394a', 'name': '⭐️⭐️⭐️⭐️', 'color': 'default'}}, 'Category': {'id': '%2F7eo', 'type': 'select', 'select': {'id': 'ONMK', 'name': 'Science Fiction', 'color': 'pink'}}, 'Author': {'id': 'qNw_', 'type': 'rich_text', 'rich_text': [{'type': 'text', 'text': {'content': 'Aldous Huxley', 'link': None}, 'annotations': {'bold': False, 'italic': False, 'strikethrough': False, 'underline': False, 'code': False, 'color': 'default'}, 'plain_text': 'Aldous Huxley', 'href': None}]}, 'Status': {'id': 'qRc%5C', 'type': 'status', 'status': {'id': '50d821ad-f638-4b79-970f-11b2ae9f8c78', 'name': 'Completed', 'color': 'green'}}, 'Title': {'id': 'title', 'type': 'title', 'title': [{'type': 'text', 'text': {'content': 'Brave New World', 'link': None}, 'annotations': {'bold': False, 'italic': False, 'strikethrough': False, 'underline': False, 'code': False, 'color': 'default'}, 'plain_text': 'Brave New World', 'href': None}]}}, 'url': 'https://www.notion.so/Brave-New-World-db90bbb9681e40d4a2fed8b98a8187de', 'public_url': None}\n",
      "fa4ff4f4-662d-4b74-8907-9cd59782a3a6\n",
      "{'object': 'page', 'id': 'fa4ff4f4-662d-4b74-8907-9cd59782a3a6', 'created_time': '2024-04-05T09:57:00.000Z', 'last_edited_time': '2024-04-05T09:57:00.000Z', 'created_by': {'object': 'user', 'id': 'ee0f78bc-69b2-4c8b-8b45-f90b287fb803'}, 'last_edited_by': {'object': 'user', 'id': 'ee0f78bc-69b2-4c8b-8b45-f90b287fb803'}, 'cover': None, 'icon': {'type': 'emoji', 'emoji': '🏹'}, 'parent': {'type': 'database_id', 'database_id': '93382acd-38a8-4718-ab95-8adc23e76ac5'}, 'archived': False, 'properties': {'Rating': {'id': ')Y7%22', 'type': 'select', 'select': {'id': '66d3d050-086c-4a91-8c56-d55dc67e7789', 'name': '⭐️⭐️', 'color': 'default'}}, 'Category': {'id': '%2F7eo', 'type': 'select', 'select': {'id': '|nHC', 'name': 'Classic Literature', 'color': 'yellow'}}, 'Author': {'id': 'qNw_', 'type': 'rich_text', 'rich_text': [{'type': 'text', 'text': {'content': 'Harper Lee', 'link': None}, 'annotations': {'bold': False, 'italic': False, 'strikethrough': False, 'underline': False, 'code': False, 'color': 'default'}, 'plain_text': 'Harper Lee', 'href': None}]}, 'Status': {'id': 'qRc%5C', 'type': 'status', 'status': {'id': '50d821ad-f638-4b79-970f-11b2ae9f8c78', 'name': 'Completed', 'color': 'green'}}, 'Title': {'id': 'title', 'type': 'title', 'title': [{'type': 'text', 'text': {'content': 'To Kill a Mockingbird', 'link': None}, 'annotations': {'bold': False, 'italic': False, 'strikethrough': False, 'underline': False, 'code': False, 'color': 'default'}, 'plain_text': 'To Kill a Mockingbird', 'href': None}]}}, 'url': 'https://www.notion.so/To-Kill-a-Mockingbird-fa4ff4f4662d4b7489079cd59782a3a6', 'public_url': None}\n"
     ]
    }
   ],
   "source": [
    "corpus = create_corpus(notion)\n",
    "\n",
    "# Save the corpus to a JSON file\n",
    "with open(\"notion_corpus.json\", \"w\", encoding=\"utf-8\") as f:\n",
    "    json.dump(corpus, f, ensure_ascii=False, indent=4)"
   ]
  }
 ],
 "metadata": {
  "kernelspec": {
   "display_name": "rag_env",
   "language": "python",
   "name": "python3"
  },
  "language_info": {
   "codemirror_mode": {
    "name": "ipython",
    "version": 3
   },
   "file_extension": ".py",
   "mimetype": "text/x-python",
   "name": "python",
   "nbconvert_exporter": "python",
   "pygments_lexer": "ipython3",
   "version": "3.11.5"
  }
 },
 "nbformat": 4,
 "nbformat_minor": 2
}
